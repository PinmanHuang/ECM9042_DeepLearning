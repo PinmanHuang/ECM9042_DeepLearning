{
 "cells": [
  {
   "cell_type": "markdown",
   "metadata": {},
   "source": [
    "## Regression\n",
    "**problem**: Chapter 6 of the textbook.\n",
    "\n",
    "In this homework, you are asked to build a deep neural network model by using the backpropagation and stochastic gradient descent algorithm. You may design the network architecture by yourself, including **the number of hidden layers**, **the number of hidden units**, **learning rate**, **the number of epochs** and **mini-batch size**. Do not use available machine learning or deep learning packages\n",
    "## Imports ##"
   ]
  },
  {
   "cell_type": "code",
   "execution_count": 1,
   "metadata": {},
   "outputs": [],
   "source": [
    "%matplotlib inline\n",
    "import pandas as pd\n",
    "import itertools\n",
    "import numpy as np\n",
    "import matplotlib.pyplot as plt\n",
    "import math\n",
    "import random"
   ]
  },
  {
   "cell_type": "markdown",
   "metadata": {},
   "source": [
    "## Load data\n",
    "The training data is 75% data points of the dataset energy_efficiency_data.csv, and the test data is 25% data points of the dataset energy_efficiency_data.csv.\n"
   ]
  },
  {
   "cell_type": "code",
   "execution_count": 2,
   "metadata": {},
   "outputs": [
    {
     "data": {
      "text/html": [
       "<div>\n",
       "<style scoped>\n",
       "    .dataframe tbody tr th:only-of-type {\n",
       "        vertical-align: middle;\n",
       "    }\n",
       "\n",
       "    .dataframe tbody tr th {\n",
       "        vertical-align: top;\n",
       "    }\n",
       "\n",
       "    .dataframe thead th {\n",
       "        text-align: right;\n",
       "    }\n",
       "</style>\n",
       "<table border=\"1\" class=\"dataframe\">\n",
       "  <thead>\n",
       "    <tr style=\"text-align: right;\">\n",
       "      <th></th>\n",
       "      <th># Relative Compactness</th>\n",
       "      <th>Surface Area</th>\n",
       "      <th>Wall Area</th>\n",
       "      <th>Roof Area</th>\n",
       "      <th>Overall Height</th>\n",
       "      <th>Orientation</th>\n",
       "      <th>Glazing Area</th>\n",
       "      <th>Glazing Area Distribution</th>\n",
       "      <th>Heating Load</th>\n",
       "      <th>Cooling Load</th>\n",
       "    </tr>\n",
       "  </thead>\n",
       "  <tbody>\n",
       "    <tr>\n",
       "      <th>0</th>\n",
       "      <td>0.98</td>\n",
       "      <td>514.5</td>\n",
       "      <td>294.0</td>\n",
       "      <td>110.25</td>\n",
       "      <td>7.0</td>\n",
       "      <td>2</td>\n",
       "      <td>0.0</td>\n",
       "      <td>0</td>\n",
       "      <td>15.55</td>\n",
       "      <td>21.33</td>\n",
       "    </tr>\n",
       "    <tr>\n",
       "      <th>1</th>\n",
       "      <td>0.98</td>\n",
       "      <td>514.5</td>\n",
       "      <td>294.0</td>\n",
       "      <td>110.25</td>\n",
       "      <td>7.0</td>\n",
       "      <td>4</td>\n",
       "      <td>0.0</td>\n",
       "      <td>0</td>\n",
       "      <td>15.55</td>\n",
       "      <td>21.33</td>\n",
       "    </tr>\n",
       "    <tr>\n",
       "      <th>2</th>\n",
       "      <td>0.98</td>\n",
       "      <td>514.5</td>\n",
       "      <td>294.0</td>\n",
       "      <td>110.25</td>\n",
       "      <td>7.0</td>\n",
       "      <td>5</td>\n",
       "      <td>0.0</td>\n",
       "      <td>0</td>\n",
       "      <td>15.55</td>\n",
       "      <td>21.33</td>\n",
       "    </tr>\n",
       "    <tr>\n",
       "      <th>3</th>\n",
       "      <td>0.90</td>\n",
       "      <td>563.5</td>\n",
       "      <td>318.5</td>\n",
       "      <td>122.50</td>\n",
       "      <td>7.0</td>\n",
       "      <td>2</td>\n",
       "      <td>0.0</td>\n",
       "      <td>0</td>\n",
       "      <td>20.84</td>\n",
       "      <td>28.28</td>\n",
       "    </tr>\n",
       "    <tr>\n",
       "      <th>4</th>\n",
       "      <td>0.90</td>\n",
       "      <td>563.5</td>\n",
       "      <td>318.5</td>\n",
       "      <td>122.50</td>\n",
       "      <td>7.0</td>\n",
       "      <td>3</td>\n",
       "      <td>0.0</td>\n",
       "      <td>0</td>\n",
       "      <td>21.46</td>\n",
       "      <td>25.38</td>\n",
       "    </tr>\n",
       "  </tbody>\n",
       "</table>\n",
       "</div>"
      ],
      "text/plain": [
       "   # Relative Compactness  Surface Area  Wall Area  Roof Area  Overall Height  \\\n",
       "0                    0.98         514.5      294.0     110.25             7.0   \n",
       "1                    0.98         514.5      294.0     110.25             7.0   \n",
       "2                    0.98         514.5      294.0     110.25             7.0   \n",
       "3                    0.90         563.5      318.5     122.50             7.0   \n",
       "4                    0.90         563.5      318.5     122.50             7.0   \n",
       "\n",
       "   Orientation  Glazing Area  Glazing Area Distribution  Heating Load  \\\n",
       "0            2           0.0                          0         15.55   \n",
       "1            4           0.0                          0         15.55   \n",
       "2            5           0.0                          0         15.55   \n",
       "3            2           0.0                          0         20.84   \n",
       "4            3           0.0                          0         21.46   \n",
       "\n",
       "   Cooling Load  \n",
       "0         21.33  \n",
       "1         21.33  \n",
       "2         21.33  \n",
       "3         28.28  \n",
       "4         25.38  "
      ]
     },
     "execution_count": 2,
     "metadata": {},
     "output_type": "execute_result"
    }
   ],
   "source": [
    "# Load the data into python and take a look\n",
    "dataset = pd.read_csv(r'energy_efficiency_data.csv')\n",
    "dataset.head()"
   ]
  },
  {
   "cell_type": "code",
   "execution_count": 3,
   "metadata": {
    "scrolled": true
   },
   "outputs": [
    {
     "data": {
      "text/html": [
       "<div>\n",
       "<style scoped>\n",
       "    .dataframe tbody tr th:only-of-type {\n",
       "        vertical-align: middle;\n",
       "    }\n",
       "\n",
       "    .dataframe tbody tr th {\n",
       "        vertical-align: top;\n",
       "    }\n",
       "\n",
       "    .dataframe thead th {\n",
       "        text-align: right;\n",
       "    }\n",
       "</style>\n",
       "<table border=\"1\" class=\"dataframe\">\n",
       "  <thead>\n",
       "    <tr style=\"text-align: right;\">\n",
       "      <th></th>\n",
       "      <th># Relative Compactness</th>\n",
       "      <th>Surface Area</th>\n",
       "      <th>Wall Area</th>\n",
       "      <th>Roof Area</th>\n",
       "      <th>Overall Height</th>\n",
       "      <th>Orientation</th>\n",
       "      <th>Glazing Area</th>\n",
       "      <th>Glazing Area Distribution</th>\n",
       "      <th>Heating Load</th>\n",
       "      <th>Cooling Load</th>\n",
       "    </tr>\n",
       "  </thead>\n",
       "  <tbody>\n",
       "    <tr>\n",
       "      <th>count</th>\n",
       "      <td>768.000000</td>\n",
       "      <td>768.000000</td>\n",
       "      <td>768.000000</td>\n",
       "      <td>768.000000</td>\n",
       "      <td>768.00000</td>\n",
       "      <td>768.000000</td>\n",
       "      <td>768.000000</td>\n",
       "      <td>768.00000</td>\n",
       "      <td>768.000000</td>\n",
       "      <td>768.000000</td>\n",
       "    </tr>\n",
       "    <tr>\n",
       "      <th>mean</th>\n",
       "      <td>0.764167</td>\n",
       "      <td>671.708333</td>\n",
       "      <td>318.500000</td>\n",
       "      <td>176.604167</td>\n",
       "      <td>5.25000</td>\n",
       "      <td>3.500000</td>\n",
       "      <td>0.234375</td>\n",
       "      <td>2.81250</td>\n",
       "      <td>22.307201</td>\n",
       "      <td>24.587760</td>\n",
       "    </tr>\n",
       "    <tr>\n",
       "      <th>std</th>\n",
       "      <td>0.105777</td>\n",
       "      <td>88.086116</td>\n",
       "      <td>43.626481</td>\n",
       "      <td>45.165950</td>\n",
       "      <td>1.75114</td>\n",
       "      <td>1.118763</td>\n",
       "      <td>0.133221</td>\n",
       "      <td>1.55096</td>\n",
       "      <td>10.090196</td>\n",
       "      <td>9.513306</td>\n",
       "    </tr>\n",
       "    <tr>\n",
       "      <th>min</th>\n",
       "      <td>0.620000</td>\n",
       "      <td>514.500000</td>\n",
       "      <td>245.000000</td>\n",
       "      <td>110.250000</td>\n",
       "      <td>3.50000</td>\n",
       "      <td>2.000000</td>\n",
       "      <td>0.000000</td>\n",
       "      <td>0.00000</td>\n",
       "      <td>6.010000</td>\n",
       "      <td>10.900000</td>\n",
       "    </tr>\n",
       "    <tr>\n",
       "      <th>25%</th>\n",
       "      <td>0.682500</td>\n",
       "      <td>606.375000</td>\n",
       "      <td>294.000000</td>\n",
       "      <td>140.875000</td>\n",
       "      <td>3.50000</td>\n",
       "      <td>2.750000</td>\n",
       "      <td>0.100000</td>\n",
       "      <td>1.75000</td>\n",
       "      <td>12.992500</td>\n",
       "      <td>15.620000</td>\n",
       "    </tr>\n",
       "    <tr>\n",
       "      <th>50%</th>\n",
       "      <td>0.750000</td>\n",
       "      <td>673.750000</td>\n",
       "      <td>318.500000</td>\n",
       "      <td>183.750000</td>\n",
       "      <td>5.25000</td>\n",
       "      <td>3.500000</td>\n",
       "      <td>0.250000</td>\n",
       "      <td>3.00000</td>\n",
       "      <td>18.950000</td>\n",
       "      <td>22.080000</td>\n",
       "    </tr>\n",
       "    <tr>\n",
       "      <th>75%</th>\n",
       "      <td>0.830000</td>\n",
       "      <td>741.125000</td>\n",
       "      <td>343.000000</td>\n",
       "      <td>220.500000</td>\n",
       "      <td>7.00000</td>\n",
       "      <td>4.250000</td>\n",
       "      <td>0.400000</td>\n",
       "      <td>4.00000</td>\n",
       "      <td>31.667500</td>\n",
       "      <td>33.132500</td>\n",
       "    </tr>\n",
       "    <tr>\n",
       "      <th>max</th>\n",
       "      <td>0.980000</td>\n",
       "      <td>808.500000</td>\n",
       "      <td>416.500000</td>\n",
       "      <td>220.500000</td>\n",
       "      <td>7.00000</td>\n",
       "      <td>5.000000</td>\n",
       "      <td>0.400000</td>\n",
       "      <td>5.00000</td>\n",
       "      <td>43.100000</td>\n",
       "      <td>48.030000</td>\n",
       "    </tr>\n",
       "  </tbody>\n",
       "</table>\n",
       "</div>"
      ],
      "text/plain": [
       "       # Relative Compactness  Surface Area   Wall Area   Roof Area  \\\n",
       "count              768.000000    768.000000  768.000000  768.000000   \n",
       "mean                 0.764167    671.708333  318.500000  176.604167   \n",
       "std                  0.105777     88.086116   43.626481   45.165950   \n",
       "min                  0.620000    514.500000  245.000000  110.250000   \n",
       "25%                  0.682500    606.375000  294.000000  140.875000   \n",
       "50%                  0.750000    673.750000  318.500000  183.750000   \n",
       "75%                  0.830000    741.125000  343.000000  220.500000   \n",
       "max                  0.980000    808.500000  416.500000  220.500000   \n",
       "\n",
       "       Overall Height  Orientation  Glazing Area  Glazing Area Distribution  \\\n",
       "count       768.00000   768.000000    768.000000                  768.00000   \n",
       "mean          5.25000     3.500000      0.234375                    2.81250   \n",
       "std           1.75114     1.118763      0.133221                    1.55096   \n",
       "min           3.50000     2.000000      0.000000                    0.00000   \n",
       "25%           3.50000     2.750000      0.100000                    1.75000   \n",
       "50%           5.25000     3.500000      0.250000                    3.00000   \n",
       "75%           7.00000     4.250000      0.400000                    4.00000   \n",
       "max           7.00000     5.000000      0.400000                    5.00000   \n",
       "\n",
       "       Heating Load  Cooling Load  \n",
       "count    768.000000    768.000000  \n",
       "mean      22.307201     24.587760  \n",
       "std       10.090196      9.513306  \n",
       "min        6.010000     10.900000  \n",
       "25%       12.992500     15.620000  \n",
       "50%       18.950000     22.080000  \n",
       "75%       31.667500     33.132500  \n",
       "max       43.100000     48.030000  "
      ]
     },
     "execution_count": 3,
     "metadata": {},
     "output_type": "execute_result"
    }
   ],
   "source": [
    "# Get more informations about dataset\n",
    "dataset.describe()"
   ]
  },
  {
   "cell_type": "code",
   "execution_count": 4,
   "metadata": {},
   "outputs": [],
   "source": [
    "X = dataset.iloc[:,:8].values\n",
    "y = dataset.iloc[:,8:10].values"
   ]
  },
  {
   "cell_type": "markdown",
   "metadata": {},
   "source": [
    "## One-Hot Encode & Normalize ##\n",
    "The categorical features (orientation, glazing area distribution) need to be encoded into one-hot vectors.\n",
    "* Orientation\n",
    "    * 2:north (1000)\n",
    "    * 3:east  (0100)\n",
    "    * 4:south (0010)\n",
    "    * 5:west  (0001)\n",
    "* Glazing area distribution\n",
    "    * 1:uniform (10000)\n",
    "    * 2:north   (01000)\n",
    "    * 3:east    (00100)\n",
    "    * 4:south   (00010)\n",
    "    * 5:west    (00001)\n",
    "\n",
    "Normalize the dataset."
   ]
  },
  {
   "cell_type": "code",
   "execution_count": 5,
   "metadata": {},
   "outputs": [],
   "source": [
    "# switch case for Orientation and Glazing Area Distribution encode\n",
    "def one_hot_encode(feature, num):\n",
    "    if feature == \"orientation\":\n",
    "        numbers = {\n",
    "            2 : [1, 0, 0, 0],\n",
    "            3 : [0, 1, 0, 0],\n",
    "            4 : [0, 0, 1, 0],\n",
    "            5 : [0, 0, 0, 1]\n",
    "        }\n",
    "        return numbers.get(num, None)\n",
    "    else:\n",
    "        numbers = {\n",
    "            0 : [0, 0, 0, 0, 0],\n",
    "            1 : [1, 0, 0, 0, 0],\n",
    "            2 : [0, 1, 0, 0, 0],\n",
    "            3 : [0, 0, 1, 0, 0],\n",
    "            4 : [0, 0, 0, 1, 0],\n",
    "            5 : [0, 0, 0, 0, 1]\n",
    "        }\n",
    "        return numbers.get(num, None)"
   ]
  },
  {
   "cell_type": "code",
   "execution_count": 6,
   "metadata": {},
   "outputs": [],
   "source": [
    "tmp = []\n",
    "for x in X:\n",
    "    # encode\n",
    "    x = x.tolist()\n",
    "    x[5:5] = one_hot_encode(\"orientation\", x[5])\n",
    "    del x[9]\n",
    "    x[10:10] = one_hot_encode(\"glazing\", x[10])\n",
    "    del x[15]\n",
    "    # normalize\n",
    "    x[1] = x[1]/810\n",
    "    x[2] = x[2]/420\n",
    "    x[3] = x[3]/210\n",
    "    x[4] = x[4]/7\n",
    "    tmp.append(x)\n",
    "X = np.array(tmp)"
   ]
  },
  {
   "cell_type": "markdown",
   "metadata": {},
   "source": [
    "## Split Dataset ##\n",
    "There are 2 simulation energy loads and 8 different features in this dataset. Shuffle the dataset then use 75% of data samples for training and 25% for testing."
   ]
  },
  {
   "cell_type": "code",
   "execution_count": 7,
   "metadata": {},
   "outputs": [],
   "source": [
    "# Splitting the dataset into training and testing set 75-25\n",
    "from sklearn.model_selection import train_test_split\n",
    "X_train, X_test, y_train, y_test = train_test_split(X, y, test_size = 0.25)\n",
    "\n",
    "X_train_seq, X_test_seq = X[:576,:], X[576:768,:]\n",
    "y_train_seq, y_test_seq = y[:576], y[576:768]"
   ]
  },
  {
   "cell_type": "code",
   "execution_count": 8,
   "metadata": {},
   "outputs": [],
   "source": [
    "dataset = []\n",
    "for i, j in zip(X_train.tolist(), y_train.tolist()):\n",
    "    dataset.append((i, [j[0]/45]))\n",
    "\n",
    "dataset_seq = []\n",
    "label_train_heating = []\n",
    "label_train_cooling = []\n",
    "label_test_heating = []\n",
    "label_test_cooling = []\n",
    "for i, j in zip(X_train_seq.tolist(), y_train_seq.tolist()):\n",
    "    dataset_seq.append((i, [j[0]/45]))\n",
    "for i in y_train_seq.tolist():\n",
    "    label_train_heating.append(i[0]/45)\n",
    "    label_train_cooling.append(i[1]/50)\n",
    "for i in y_test_seq.tolist():\n",
    "    label_test_heating.append(i[0]/45)\n",
    "    label_test_cooling.append(i[1]/50)"
   ]
  },
  {
   "cell_type": "code",
   "execution_count": 9,
   "metadata": {},
   "outputs": [
    {
     "data": {
      "text/plain": [
       "Text(0.5,0,'#th case')"
      ]
     },
     "execution_count": 9,
     "metadata": {},
     "output_type": "execute_result"
    },
    {
     "data": {
      "image/png": "[encoded data removed]",
      "text/plain": [
       "<matplotlib.figure.Figure at 0x1cb6cf666a0>"
      ]
     },
     "metadata": {},
     "output_type": "display_data"
    }
   ],
   "source": [
    "plt.figure(figsize=(10,5))\n",
    "plt.suptitle('Dataset', fontsize=16)\n",
    "plt.subplot(211)\n",
    "plt.plot(range(576), label_train_heating, 'b-')\n",
    "plt.xlabel('#th case')\n",
    "plt.subplot(212)\n",
    "plt.plot(range(192), label_test_heating, 'b-')\n",
    "plt.xlabel('#th case')"
   ]
  },
  {
   "cell_type": "markdown",
   "metadata": {},
   "source": [
    "## Neural Network ##"
   ]
  },
  {
   "cell_type": "code",
   "execution_count": 10,
   "metadata": {},
   "outputs": [],
   "source": [
    "class NeuralNetwork(object):\n",
    "\n",
    "    def __init__(self, learning_rate=0.5, debug=False):\n",
    "        \"\"\"\n",
    "        Train NeuralNetwork by fixed learning rate\n",
    "        \"\"\"\n",
    "        self.neuron_layers = []\n",
    "        self.learning_rate = learning_rate\n",
    "        self.debug = debug\n",
    "\n",
    "    def train(self, dataset):\n",
    "        for inputs, outputs in dataset:\n",
    "            self.feed_forward(inputs)\n",
    "            self.feed_backword(outputs)\n",
    "            self.update_weights(self.learning_rate)\n",
    "\n",
    "    def feed_forward(self, inputs):\n",
    "        s = inputs\n",
    "        for (i, l) in enumerate(self.neuron_layers):\n",
    "            s = l.feed_forward(s)\n",
    "            if self.debug:\n",
    "                print (\"Layer %s:\" % (i+1), \" output:%s\" % s)\n",
    "        return s\n",
    "\n",
    "    def feed_backword(self, outputs):\n",
    "        layer_num = len(self.neuron_layers)\n",
    "        l = layer_num\n",
    "        previous_deltas = [] \n",
    "        while l != 0:\n",
    "            current_layer = self.neuron_layers[l - 1]\n",
    "            if len(previous_deltas) == 0:\n",
    "                for i in range(len(current_layer.neurons)):\n",
    "                    error = -(outputs[i] - current_layer.neurons[i].output)\n",
    "                    current_layer.neurons[i].calculate_delta(error)\n",
    "            else:\n",
    "                previous_layer = self.neuron_layers[l]\n",
    "                for i in range(len(current_layer.neurons)):\n",
    "                    error = 0\n",
    "                    for j in range(len(previous_deltas)):\n",
    "                        error += previous_deltas[j] * previous_layer.neurons[j].weights[i]\n",
    "                    current_layer.neurons[i].calculate_delta(error)\n",
    "            previous_deltas = current_layer.get_deltas()\n",
    "            if self.debug:\n",
    "                print (\"Layer %s:\" % l, \"deltas:%s\" % previous_deltas)\n",
    "            l -= 1\n",
    "\n",
    "    def update_weights(self, learning_rate):\n",
    "        for l in self.neuron_layers:\n",
    "            l.update_weights(learning_rate)\n",
    "\n",
    "    def calculate_total_error(self, dataset):\n",
    "        \"\"\"\n",
    "        Return mean squared error of dataset\n",
    "        \"\"\"\n",
    "        total_error = 0\n",
    "        for inputs, outputs in dataset:\n",
    "            actual_outputs = self.feed_forward(inputs)\n",
    "            for i in range(len(outputs)):\n",
    "                total_error += (outputs[i] - actual_outputs[i]) ** 2\n",
    "        return total_error\n",
    "\n",
    "    def get_output(self, inputs):\n",
    "        return self.feed_forward(inputs)\n",
    "\n",
    "    def add_layer(self, neruon_layer):\n",
    "        self.neuron_layers.append(neruon_layer)\n",
    "\n",
    "    def dump(self):\n",
    "        for (i, l) in enumerate(self.neuron_layers):\n",
    "            print (\"Dump layer: %s\" % (i+1))\n",
    "            l.dump()"
   ]
  },
  {
   "cell_type": "code",
   "execution_count": 11,
   "metadata": {},
   "outputs": [],
   "source": [
    "class NeuronLayer(object):\n",
    "\n",
    "    def __init__(self, input_num, neuron_num, init_weights=[], bias=1):\n",
    "        self.neurons = []\n",
    "        weight_index = 0\n",
    "        for i in range(neuron_num):\n",
    "            n = Neuron(input_num)\n",
    "            for j in range(input_num):\n",
    "                if weight_index < len(init_weights):\n",
    "                    n.weights[j] = init_weights[weight_index]\n",
    "                    weight_index += 1\n",
    "            n.bias = bias\n",
    "            self.neurons.append(n)\n",
    "\n",
    "    def feed_forward(self, inputs):\n",
    "        outputs = []\n",
    "        for n in self.neurons:\n",
    "            outputs.append(n.calculate_output(inputs))\n",
    "        return outputs\n",
    "\n",
    "    def get_deltas(self):\n",
    "        return [n.delta for n in self.neurons]\n",
    "\n",
    "    def update_weights(self, learning_rate):\n",
    "        for n in self.neurons:\n",
    "            n.update_weights(learning_rate)\n",
    "\n",
    "    def dump(self):\n",
    "        for (i, n) in enumerate(self.neurons):\n",
    "            print (\"\\t-Dump neuron: %s\" % (i+1))\n",
    "            n.dump()"
   ]
  },
  {
   "cell_type": "markdown",
   "metadata": {},
   "source": [
    "## Neuron ##\n",
    "### Initialize the Weights of Neural Network ###\n",
    "Using random function to randomly generate the weights.\n",
    "### Calculate Output ###\n",
    "$$z=\\omega_{1}*x_{1}+\\omega_{2}∗x_{2}+\\omega_{3}∗bias$$\n",
    "\n",
    "then using activation function(sigmoid function) to calculate the output\n",
    "\n",
    "$$s=\\frac{1}{1+e^{−z}}$$\n",
    "### Activation Function ###\n",
    "$$s=\\frac{1}{1+e^{−z}}$$\n",
    "### Calculate Delta ###\n",
    "The error influence:\n",
    "$$\\delta_{L}=(realOutput−expectOutput)∗g′(z)$$\n",
    "\n",
    "$$g'(z)=o∗(1−o)$$\n",
    "### Update Weights ###\n",
    "$$\\delta_{L}=\\omega_{L+1}\\delta_{L+1}∗g′(z)$$\n",
    "\n",
    "new weights: $$\\omega_{i}=\\omega_{i}−\\alpha∗\\delta∗x_{i}$$\n",
    "\n",
    "new bias: $$\\omega_{bias}=\\omega_{bias}−\\alpha∗\\delta$$\n"
   ]
  },
  {
   "cell_type": "code",
   "execution_count": 12,
   "metadata": {},
   "outputs": [],
   "source": [
    "class Neuron(object):\n",
    "\n",
    "    def __init__(self, weight_num):\n",
    "        self.weights = []\n",
    "        self.bias = 0\n",
    "        self.output = 0\n",
    "        self.delta = 0\n",
    "        self.inputs = []\n",
    "        for i in range(weight_num):\n",
    "            self.weights.append(random.random())\n",
    "\n",
    "    def calculate_output(self, inputs):\n",
    "        self.inputs = inputs\n",
    "        if len(inputs) != len(self.weights):\n",
    "            raise Exception(\"Input number not fit weight number\")\n",
    "        self.output = 0\n",
    "        for (i, w) in enumerate(self.weights):\n",
    "            self.output += w * inputs[i]\n",
    "        self.output = self.activation_function(self.output + self.bias)\n",
    "        return self.output\n",
    "\n",
    "    def activation_function(self, x):\n",
    "        \"\"\"Using sigmoid function\"\"\"\n",
    "        return 1 / (1 + math.exp(-x))\n",
    "\n",
    "    def calculate_delta(self, error):\n",
    "        \"\"\" Using g' of sigmoid \"\"\"\n",
    "        self.delta = error * self.output * (1 - self.output)\n",
    "\n",
    "    def update_weights(self, learning_rate):\n",
    "        for (i, w) in enumerate(self.weights):\n",
    "            new_w = w - learning_rate * self.delta * self.inputs[i]\n",
    "            self.weights[i] = new_w\n",
    "        self.bias = self.bias - learning_rate * self.delta\n",
    "\n",
    "    def dump(self):\n",
    "        print (\"\\t\\t-- weights:\", self.weights)\n",
    "        print (\"\\t\\t-- bias:\", self.bias)"
   ]
  },
  {
   "cell_type": "markdown",
   "metadata": {},
   "source": [
    "## Train ##"
   ]
  },
  {
   "cell_type": "code",
   "execution_count": 13,
   "metadata": {},
   "outputs": [],
   "source": [
    "nn = NeuralNetwork()\n",
    "hidden_layer_1 = NeuronLayer(input_num=15, neuron_num=10, bias=1)\n",
    "hidden_layer_2 = NeuronLayer(input_num=10, neuron_num=10, bias=1)\n",
    "output_layer = NeuronLayer(input_num=10, neuron_num=1, bias=1)\n",
    "nn.add_layer(hidden_layer_1)\n",
    "nn.add_layer(hidden_layer_2)\n",
    "nn.add_layer(output_layer)\n",
    "# nn.dump()\n",
    "\n",
    "tracking = []\n",
    "for i in range(1000):\n",
    "    nn.train(dataset)\n",
    "    tracking.append(nn.calculate_total_error(dataset))"
   ]
  },
  {
   "cell_type": "markdown",
   "metadata": {},
   "source": [
    "## Predit ##"
   ]
  },
  {
   "cell_type": "code",
   "execution_count": 14,
   "metadata": {
    "collapsed": true
   },
   "outputs": [],
   "source": [
    "predit_train_heating = []\n",
    "predit_test_heating = []\n",
    "for x in X_train_seq.tolist():\n",
    "    predit_train_heating.append(nn.get_output(x))\n",
    "for x in X_test_seq.tolist():\n",
    "    predit_test_heating.append(nn.get_output(x))"
   ]
  },
  {
   "cell_type": "code",
   "execution_count": 15,
   "metadata": {
    "scrolled": true
   },
   "outputs": [
    {
     "data": {
      "image/png": "[encoded data removed]",
      "text/plain": [
       "<matplotlib.figure.Figure at 0x13da6d4dba8>"
      ]
     },
     "metadata": {},
     "output_type": "display_data"
    }
   ],
   "source": [
    "plt.figure(figsize=(10,5))\n",
    "plt.suptitle('Dataset Preditioin', fontsize=16)\n",
    "\n",
    "plt.subplot(211)\n",
    "plt.plot(range(576), label_train_heating, 'b-')\n",
    "plt.plot(range(576), predit_train_heating, 'r-')\n",
    "plt.xlabel('#th case')\n",
    "\n",
    "plt.subplot(212)\n",
    "plt.plot(range(192), label_test_heating, 'b-')\n",
    "plt.plot(range(192), predit_test_heating, 'r-')\n",
    "plt.xlabel('#th case')\n",
    "\n",
    "plt.savefig('1_Prediction')"
   ]
  },
  {
   "cell_type": "code",
   "execution_count": 41,
   "metadata": {},
   "outputs": [],
   "source": [
    "predit_testing = []\n",
    "for x in X_test.tolist():\n",
    "    predit_testing.append(nn.get_output(x))"
   ]
  },
  {
   "cell_type": "markdown",
   "metadata": {},
   "source": [
    "## Error ##"
   ]
  },
  {
   "cell_type": "code",
   "execution_count": 42,
   "metadata": {},
   "outputs": [],
   "source": [
    "square_error = []\n",
    "for (i, e) in enumerate(tracking):\n",
    "    square_error.append(((e/len(dataset))*(45**2))**0.5)"
   ]
  },
  {
   "cell_type": "code",
   "execution_count": 59,
   "metadata": {
    "scrolled": true
   },
   "outputs": [
    {
     "data": {
      "image/png": "[encoded data removed]",
      "text/plain": [
       "<matplotlib.figure.Figure at 0x13da70dc208>"
      ]
     },
     "metadata": {},
     "output_type": "display_data"
    }
   ],
   "source": [
    "plt.suptitle('Training Curve', fontsize=16)\n",
    "plt.plot(range(1000), square_error, 'b-')\n",
    "plt.xlabel('Epoch')\n",
    "\n",
    "plt.savefig('1_Training_Curve')"
   ]
  },
  {
   "cell_type": "code",
   "execution_count": 51,
   "metadata": {},
   "outputs": [],
   "source": [
    "error_testing = 0\n",
    "for y, t in zip(predit_testing, y_test):\n",
    "    error_testing += (t[0]-y[0]*45)**2\n",
    "error_testing = (error_testing/len(y_test))**0.5"
   ]
  },
  {
   "cell_type": "code",
   "execution_count": 58,
   "metadata": {},
   "outputs": [
    {
     "name": "stdout",
     "output_type": "stream",
     "text": [
      "Training RMS error:  2.525849470116642\n",
      "Test RMS error:  2.80324471719\n"
     ]
    }
   ],
   "source": [
    "print(\"Training RMS error: \", square_error[999])\n",
    "print(\"Test RMS error: \", error_testing)"
   ]
  },
  {
   "cell_type": "code",
   "execution_count": 16,
   "metadata": {},
   "outputs": [
    {
     "name": "stdout",
     "output_type": "stream",
     "text": [
      "3\n"
     ]
    }
   ],
   "source": [
    "print(len(nn.neuron_layers))"
   ]
  },
  {
   "cell_type": "code",
   "execution_count": null,
   "metadata": {},
   "outputs": [],
   "source": []
  }
 ],
 "metadata": {
  "kernelspec": {
   "display_name": "Python 3",
   "language": "python",
   "name": "python3"
  },
  "language_info": {
   "codemirror_mode": {
    "name": "ipython",
    "version": 3
   },
   "file_extension": ".py",
   "mimetype": "text/x-python",
   "name": "python",
   "nbconvert_exporter": "python",
   "pygments_lexer": "ipython3",
   "version": "3.6.6"
  }
 },
 "nbformat": 4,
 "nbformat_minor": 2
}
