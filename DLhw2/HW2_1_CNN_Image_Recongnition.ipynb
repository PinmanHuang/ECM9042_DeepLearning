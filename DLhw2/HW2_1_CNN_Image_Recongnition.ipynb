{
 "cells": [
  {
   "cell_type": "markdown",
   "metadata": {},
   "source": [
    "## Convolutional Neural Network\n",
    "**problem**: Chapter 6 of the textbook.\n",
    "\n",
    "In this exercise, you will construct a convolutional neural network (CNN) for image recognition using the MNIST dataset. This dataset is a subset of a larger set available from NIST. The MNIST dataset contains a total of 70,000 images of handwritten digits from 0 to 9 with corresponding labels, of which 55,000 examples are in the training set, 5,000 in the validation set, and 10,000 in the test set. The digits have been size-normalized and centered in a fixedsize image, so you don’t need to do any preprocessing to the images.\n",
    "## Imports ##"
   ]
  },
  {
   "cell_type": "code",
   "execution_count": 10,
   "metadata": {},
   "outputs": [],
   "source": [
    "%matplotlib inline\n",
    "import tensorflow as tf\n",
    "import keras\n",
    "import itertools\n",
    "import numpy as np\n",
    "import matplotlib.pyplot as plt\n",
    "import math\n",
    "import random"
   ]
  },
  {
   "cell_type": "markdown",
   "metadata": {},
   "source": [
    "## Load data\n",
    "\n",
    "Tensorflow and Keras allow us to import and download the MNIST dataset directly from their API."
   ]
  },
  {
   "cell_type": "code",
   "execution_count": 2,
   "metadata": {},
   "outputs": [],
   "source": [
    "(x_train, y_train), (x_test, y_test) = tf.keras.datasets.mnist.load_data()"
   ]
  },
  {
   "cell_type": "code",
   "execution_count": 3,
   "metadata": {},
   "outputs": [
    {
     "name": "stdout",
     "output_type": "stream",
     "text": [
      "0\n"
     ]
    },
    {
     "data": {
      "text/plain": [
       "<matplotlib.image.AxesImage at 0x1d134c2e278>"
      ]
     },
     "execution_count": 3,
     "metadata": {},
     "output_type": "execute_result"
    },
    {
     "data": {
      "image/png": "[encoded data removed]",
      "text/plain": [
       "<matplotlib.figure.Figure at 0x1d1314f3f98>"
      ]
     },
     "metadata": {},
     "output_type": "display_data"
    }
   ],
   "source": [
    "image_index = 1\n",
    "print(y_train[image_index])\n",
    "plt.imshow(x_train[image_index], cmap='Greys')"
   ]
  },
  {
   "cell_type": "markdown",
   "metadata": {},
   "source": [
    "## Neural Network ##"
   ]
  },
  {
   "cell_type": "code",
   "execution_count": 6,
   "metadata": {},
   "outputs": [],
   "source": [
    "class NeuralNetwork(object):\n",
    "\n",
    "    def __init__(self, learning_rate=0.5, debug=False):\n",
    "        \"\"\"\n",
    "        Train NeuralNetwork by fixed learning rate\n",
    "        \"\"\"\n",
    "        self.neuron_layers = []\n",
    "        self.learning_rate = learning_rate\n",
    "        self.debug = debug\n",
    "\n",
    "    def train(self, dataset):\n",
    "        for inputs, outputs in dataset:\n",
    "            self.feed_forward(inputs)\n",
    "            self.feed_backword(outputs)\n",
    "            self.update_weights(self.learning_rate)\n",
    "\n",
    "    def feed_forward(self, inputs):\n",
    "        s = inputs\n",
    "        for (i, l) in enumerate(self.neuron_layers):\n",
    "            s = l.feed_forward(s)\n",
    "            if self.debug:\n",
    "                print (\"Layer %s:\" % (i+1), \" output:%s\" % s)\n",
    "        return s\n",
    "\n",
    "    def feed_backword(self, outputs):\n",
    "        layer_num = len(self.neuron_layers)\n",
    "        l = layer_num\n",
    "        previous_deltas = [] \n",
    "        while l != 0:\n",
    "            current_layer = self.neuron_layers[l - 1]\n",
    "            if len(previous_deltas) == 0:\n",
    "                for i in range(len(current_layer.neurons)):\n",
    "                    error = -(outputs[i] - current_layer.neurons[i].output)\n",
    "                    current_layer.neurons[i].calculate_delta(error)\n",
    "            else:\n",
    "                previous_layer = self.neuron_layers[l]\n",
    "                for i in range(len(current_layer.neurons)):\n",
    "                    error = 0\n",
    "                    for j in range(len(previous_deltas)):\n",
    "                        error += previous_deltas[j] * previous_layer.neurons[j].weights[i]\n",
    "                    current_layer.neurons[i].calculate_delta(error)\n",
    "            previous_deltas = current_layer.get_deltas()\n",
    "            if self.debug:\n",
    "                print (\"Layer %s:\" % l, \"deltas:%s\" % previous_deltas)\n",
    "            l -= 1\n",
    "\n",
    "    def update_weights(self, learning_rate):\n",
    "        for l in self.neuron_layers:\n",
    "            l.update_weights(learning_rate)\n",
    "\n",
    "    def calculate_total_error(self, dataset):\n",
    "        \"\"\"\n",
    "        Return mean squared error of dataset\n",
    "        \"\"\"\n",
    "        total_error = 0\n",
    "        for inputs, outputs in dataset:\n",
    "            actual_outputs = self.feed_forward(inputs)\n",
    "            for i in range(len(outputs)):\n",
    "                total_error += (outputs[i] - actual_outputs[i]) ** 2\n",
    "        return total_error\n",
    "\n",
    "    def get_output(self, inputs):\n",
    "        return self.feed_forward(inputs)\n",
    "\n",
    "    def add_layer(self, neruon_layer):\n",
    "        self.neuron_layers.append(neruon_layer)\n",
    "\n",
    "    def dump(self):\n",
    "        for (i, l) in enumerate(self.neuron_layers):\n",
    "            print (\"Dump layer: %s\" % (i+1))\n",
    "            l.dump()"
   ]
  },
  {
   "cell_type": "code",
   "execution_count": 7,
   "metadata": {},
   "outputs": [],
   "source": [
    "class NeuronLayer(object):\n",
    "\n",
    "    def __init__(self, input_num, neuron_num, init_weights=[], bias=1):\n",
    "        self.neurons = []\n",
    "        weight_index = 0\n",
    "        for i in range(neuron_num):\n",
    "            n = Neuron(input_num)\n",
    "            for j in range(input_num):\n",
    "                if weight_index < len(init_weights):\n",
    "                    n.weights[j] = init_weights[weight_index]\n",
    "                    weight_index += 1\n",
    "            n.bias = bias\n",
    "            self.neurons.append(n)\n",
    "\n",
    "    def feed_forward(self, inputs):\n",
    "        outputs = []\n",
    "        for n in self.neurons:\n",
    "            outputs.append(n.calculate_output(inputs))\n",
    "        return outputs\n",
    "\n",
    "    def get_deltas(self):\n",
    "        return [n.delta for n in self.neurons]\n",
    "\n",
    "    def update_weights(self, learning_rate):\n",
    "        for n in self.neurons:\n",
    "            n.update_weights(learning_rate)\n",
    "\n",
    "    def dump(self):\n",
    "        for (i, n) in enumerate(self.neurons):\n",
    "            print (\"\\t-Dump neuron: %s\" % (i+1))\n",
    "            n.dump()"
   ]
  },
  {
   "cell_type": "markdown",
   "metadata": {},
   "source": [
    "## Neuron ##\n",
    "### Initialize the Weights of Neural Network ###\n",
    "Using random function to randomly generate the weights.\n",
    "### Calculate Output ###\n",
    "$$z=\\omega_{1}*x_{1}+\\omega_{2}∗x_{2}+\\omega_{3}∗bias$$\n",
    "\n",
    "then using activation function(sigmoid function) to calculate the output\n",
    "\n",
    "$$s=\\frac{1}{1+e^{−z}}$$\n",
    "### Activation Function ###\n",
    "$$s=\\frac{1}{1+e^{−z}}$$\n",
    "### Calculate Delta ###\n",
    "The error influence:\n",
    "$$\\delta_{L}=(realOutput−expectOutput)∗g′(z)$$\n",
    "\n",
    "$$g'(z)=o∗(1−o)$$\n",
    "### Update Weights ###\n",
    "$$\\delta_{L}=\\omega_{L+1}\\delta_{L+1}∗g′(z)$$\n",
    "\n",
    "new weights: $$\\omega_{i}=\\omega_{i}−\\alpha∗\\delta∗x_{i}$$\n",
    "\n",
    "new bias: $$\\omega_{bias}=\\omega_{bias}−\\alpha∗\\delta$$\n"
   ]
  },
  {
   "cell_type": "code",
   "execution_count": 8,
   "metadata": {},
   "outputs": [],
   "source": [
    "class Neuron(object):\n",
    "\n",
    "    def __init__(self, weight_num):\n",
    "        self.weights = []\n",
    "        self.bias = 0\n",
    "        self.output = 0\n",
    "        self.delta = 0\n",
    "        self.inputs = []\n",
    "        for i in range(weight_num):\n",
    "            self.weights.append(random.random())\n",
    "\n",
    "    def calculate_output(self, inputs):\n",
    "        self.inputs = inputs\n",
    "        if len(inputs) != len(self.weights):\n",
    "            raise Exception(\"Input number not fit weight number\")\n",
    "        self.output = 0\n",
    "        for (i, w) in enumerate(self.weights):\n",
    "            self.output += w * inputs[i]\n",
    "        self.output = self.activation_function(self.output + self.bias)\n",
    "        return self.output\n",
    "\n",
    "    def activation_function(self, x):\n",
    "        \"\"\"Using sigmoid function\"\"\"\n",
    "        return 1 / (1 + math.exp(-x))\n",
    "\n",
    "    def calculate_delta(self, error):\n",
    "        \"\"\" Using g' of sigmoid \"\"\"\n",
    "        self.delta = error * self.output * (1 - self.output)\n",
    "\n",
    "    def update_weights(self, learning_rate):\n",
    "        for (i, w) in enumerate(self.weights):\n",
    "            new_w = w - learning_rate * self.delta * self.inputs[i]\n",
    "            self.weights[i] = new_w\n",
    "        self.bias = self.bias - learning_rate * self.delta\n",
    "\n",
    "    def dump(self):\n",
    "        print (\"\\t\\t-- weights:\", self.weights)\n",
    "        print (\"\\t\\t-- bias:\", self.bias)"
   ]
  },
  {
   "cell_type": "markdown",
   "metadata": {},
   "source": [
    "## Train ##"
   ]
  },
  {
   "cell_type": "code",
   "execution_count": 12,
   "metadata": {},
   "outputs": [],
   "source": [
    "nn = NeuralNetwork()\n",
    "hidden_layer_1 = NeuronLayer(input_num=15, neuron_num=10, bias=1)\n",
    "hidden_layer_2 = NeuronLayer(input_num=10, neuron_num=10, bias=1)\n",
    "output_layer = NeuronLayer(input_num=10, neuron_num=1, bias=1)\n",
    "nn.add_layer(hidden_layer_1)\n",
    "nn.add_layer(hidden_layer_2)\n",
    "nn.add_layer(output_layer)\n",
    "# nn.dump()"
   ]
  },
  {
   "cell_type": "code",
   "execution_count": null,
   "metadata": {},
   "outputs": [],
   "source": [
    "tracking = []\n",
    "for i in range(1000):\n",
    "    nn.train(dataset)\n",
    "    tracking.append(nn.calculate_total_error(dataset))"
   ]
  }
 ],
 "metadata": {
  "kernelspec": {
   "display_name": "Python 3",
   "language": "python",
   "name": "python3"
  },
  "language_info": {
   "codemirror_mode": {
    "name": "ipython",
    "version": 3
   },
   "file_extension": ".py",
   "mimetype": "text/x-python",
   "name": "python",
   "nbconvert_exporter": "python",
   "pygments_lexer": "ipython3",
   "version": "3.6.6"
  }
 },
 "nbformat": 4,
 "nbformat_minor": 2
}
